{
  "nbformat": 4,
  "nbformat_minor": 0,
  "metadata": {
    "colab": {
      "provenance": [],
      "authorship_tag": "ABX9TyN/K8RK2F16HfHwCtVBhVsT",
      "include_colab_link": true
    },
    "kernelspec": {
      "name": "python3",
      "display_name": "Python 3"
    },
    "language_info": {
      "name": "python"
    }
  },
  "cells": [
    {
      "cell_type": "markdown",
      "metadata": {
        "id": "view-in-github",
        "colab_type": "text"
      },
      "source": [
        "<a href=\"https://colab.research.google.com/github/MaryamMortazaviSefat/practice2_Prediction-of-Persian-Numbers/blob/main/q3.ipynb\" target=\"_parent\"><img src=\"https://colab.research.google.com/assets/colab-badge.svg\" alt=\"Open In Colab\"/></a>"
      ]
    },
    {
      "cell_type": "code",
      "execution_count": 1,
      "metadata": {
        "colab": {
          "base_uri": "https://localhost:8080/"
        },
        "id": "HR54ucEMkxz9",
        "outputId": "516e66cb-7f58-4a97-fedf-19c5342a3e9c"
      },
      "outputs": [
        {
          "output_type": "stream",
          "name": "stdout",
          "text": [
            "--2024-09-23 19:16:54--  https://raw.githubusercontent.com/MaryamMortazaviSefat/practice2_Prediction-of-Persian-Numbers/refs/heads/main/data_hoda.py\n",
            "Resolving raw.githubusercontent.com (raw.githubusercontent.com)... 185.199.111.133, 185.199.110.133, 185.199.109.133, ...\n",
            "Connecting to raw.githubusercontent.com (raw.githubusercontent.com)|185.199.111.133|:443... connected.\n",
            "HTTP request sent, awaiting response... 200 OK\n",
            "Length: 1092 (1.1K) [text/plain]\n",
            "Saving to: ‘data_hoda.py’\n",
            "\n",
            "\rdata_hoda.py          0%[                    ]       0  --.-KB/s               \rdata_hoda.py        100%[===================>]   1.07K  --.-KB/s    in 0s      \n",
            "\n",
            "2024-09-23 19:16:54 (20.2 MB/s) - ‘data_hoda.py’ saved [1092/1092]\n",
            "\n",
            "--2024-09-23 19:16:54--  https://github.com/MaryamMortazaviSefat/practice2_Prediction-of-Persian-Numbers/raw/refs/heads/main/dataset/Data_hoda_full.mat\n",
            "Resolving github.com (github.com)... 140.82.113.3\n",
            "Connecting to github.com (github.com)|140.82.113.3|:443... connected.\n",
            "HTTP request sent, awaiting response... 302 Found\n",
            "Location: https://raw.githubusercontent.com/MaryamMortazaviSefat/practice2_Prediction-of-Persian-Numbers/refs/heads/main/dataset/Data_hoda_full.mat [following]\n",
            "--2024-09-23 19:16:54--  https://raw.githubusercontent.com/MaryamMortazaviSefat/practice2_Prediction-of-Persian-Numbers/refs/heads/main/dataset/Data_hoda_full.mat\n",
            "Resolving raw.githubusercontent.com (raw.githubusercontent.com)... 185.199.111.133, 185.199.109.133, 185.199.110.133, ...\n",
            "Connecting to raw.githubusercontent.com (raw.githubusercontent.com)|185.199.111.133|:443... connected.\n",
            "HTTP request sent, awaiting response... 200 OK\n",
            "Length: 3989009 (3.8M) [application/octet-stream]\n",
            "Saving to: ‘dataset/Data_hoda_full.mat’\n",
            "\n",
            "Data_hoda_full.mat  100%[===================>]   3.80M  --.-KB/s    in 0.02s   \n",
            "\n",
            "2024-09-23 19:16:55 (218 MB/s) - ‘dataset/Data_hoda_full.mat’ saved [3989009/3989009]\n",
            "\n",
            "--2024-09-23 19:16:55--  https://github.com/MaryamMortazaviSefat/practice2_Prediction-of-Persian-Numbers/raw/refs/heads/main/knn_best_model.pkl\n",
            "Resolving github.com (github.com)... 140.82.112.4\n",
            "Connecting to github.com (github.com)|140.82.112.4|:443... connected.\n",
            "HTTP request sent, awaiting response... 302 Found\n",
            "Location: https://raw.githubusercontent.com/MaryamMortazaviSefat/practice2_Prediction-of-Persian-Numbers/refs/heads/main/knn_best_model.pkl [following]\n",
            "--2024-09-23 19:16:55--  https://raw.githubusercontent.com/MaryamMortazaviSefat/practice2_Prediction-of-Persian-Numbers/refs/heads/main/knn_best_model.pkl\n",
            "Resolving raw.githubusercontent.com (raw.githubusercontent.com)... 185.199.108.133, 185.199.109.133, 185.199.110.133, ...\n",
            "Connecting to raw.githubusercontent.com (raw.githubusercontent.com)|185.199.108.133|:443... connected.\n",
            "HTTP request sent, awaiting response... 200 OK\n",
            "Length: 918706 (897K) [application/octet-stream]\n",
            "Saving to: ‘knn_best_model.pkl’\n",
            "\n",
            "knn_best_model.pkl  100%[===================>] 897.17K  --.-KB/s    in 0.009s  \n",
            "\n",
            "2024-09-23 19:16:55 (102 MB/s) - ‘knn_best_model.pkl’ saved [918706/918706]\n",
            "\n",
            "--2024-09-23 19:16:55--  https://raw.githubusercontent.com/Alireza-Akhavan/ML-notebooks/refs/heads/main/adad.png\n",
            "Resolving raw.githubusercontent.com (raw.githubusercontent.com)... 185.199.108.133, 185.199.109.133, 185.199.110.133, ...\n",
            "Connecting to raw.githubusercontent.com (raw.githubusercontent.com)|185.199.108.133|:443... connected.\n",
            "HTTP request sent, awaiting response... 200 OK\n",
            "Length: 566 [image/png]\n",
            "Saving to: ‘adad.png’\n",
            "\n",
            "adad.png            100%[===================>]     566  --.-KB/s    in 0s      \n",
            "\n",
            "2024-09-23 19:16:55 (30.1 MB/s) - ‘adad.png’ saved [566/566]\n",
            "\n"
          ]
        }
      ],
      "source": [
        "#loaad .py module\n",
        "!wget https://raw.githubusercontent.com/MaryamMortazaviSefat/practice2_Prediction-of-Persian-Numbers/refs/heads/main/data_hoda.py\n",
        "!wget https://github.com/MaryamMortazaviSefat/practice2_Prediction-of-Persian-Numbers/raw/refs/heads/main/dataset/Data_hoda_full.mat -P dataset\n",
        "!wget https://raw.githubusercontent.com/Alireza-Akhavan/ML-notebooks/refs/heads/main/adad.png"
      ]
    },
    {
      "cell_type": "code",
      "source": [
        "!wget https://github.com/MaryamMortazaviSefat/practice2_Prediction-of-Persian-Numbers/raw/refs/heads/main/knn_best_model.pkl"
      ],
      "metadata": {
        "id": "HmSFeaf2af6Q",
        "outputId": "0cf300b5-59f3-4d63-eacd-df447a11a294",
        "colab": {
          "base_uri": "https://localhost:8080/"
        }
      },
      "execution_count": 156,
      "outputs": [
        {
          "output_type": "stream",
          "name": "stdout",
          "text": [
            "--2024-09-23 20:23:53--  https://github.com/MaryamMortazaviSefat/practice2_Prediction-of-Persian-Numbers/raw/refs/heads/main/knn_best_model.pkl\n",
            "Resolving github.com (github.com)... 140.82.114.3\n",
            "Connecting to github.com (github.com)|140.82.114.3|:443... connected.\n",
            "HTTP request sent, awaiting response... 302 Found\n",
            "Location: https://raw.githubusercontent.com/MaryamMortazaviSefat/practice2_Prediction-of-Persian-Numbers/refs/heads/main/knn_best_model.pkl [following]\n",
            "--2024-09-23 20:23:54--  https://raw.githubusercontent.com/MaryamMortazaviSefat/practice2_Prediction-of-Persian-Numbers/refs/heads/main/knn_best_model.pkl\n",
            "Resolving raw.githubusercontent.com (raw.githubusercontent.com)... 185.199.108.133, 185.199.110.133, 185.199.109.133, ...\n",
            "Connecting to raw.githubusercontent.com (raw.githubusercontent.com)|185.199.108.133|:443... connected.\n",
            "HTTP request sent, awaiting response... 200 OK\n",
            "Length: 233706 (228K) [application/octet-stream]\n",
            "Saving to: ‘knn_best_model.pkl’\n",
            "\n",
            "knn_best_model.pkl  100%[===================>] 228.23K  --.-KB/s    in 0.006s  \n",
            "\n",
            "2024-09-23 20:23:54 (34.6 MB/s) - ‘knn_best_model.pkl’ saved [233706/233706]\n",
            "\n"
          ]
        }
      ]
    },
    {
      "cell_type": "code",
      "source": [
        "import numpy as np\n",
        "import matplotlib.pyplot as plt\n",
        "from sklearn.neighbors import KNeighborsClassifier\n",
        "import cv2\n",
        "import pickle\n",
        "\n",
        "from data_hoda import knn_classifier,load_hoda"
      ],
      "metadata": {
        "id": "BY2N9VNzk83Z"
      },
      "execution_count": 2,
      "outputs": []
    },
    {
      "cell_type": "code",
      "source": [
        "with open('knn_best_model.pkl','rb') as file:\n",
        "  knn=pickle.load(file)"
      ],
      "metadata": {
        "id": "KiEh0WLtqu_D"
      },
      "execution_count": 157,
      "outputs": []
    },
    {
      "cell_type": "code",
      "source": [
        "img= plt.imread('adad.png',0)\n",
        "\n",
        "image=cv2.resize(img2,(15,15))\n",
        "#im.shape\n",
        "\n",
        "plt.imshow(image)"
      ],
      "metadata": {
        "id": "9FthrfCDVXq7",
        "outputId": "8e61a9ff-1841-4eec-dc70-5871ca5d2cbd",
        "colab": {
          "base_uri": "https://localhost:8080/",
          "height": 447
        }
      },
      "execution_count": 169,
      "outputs": [
        {
          "output_type": "execute_result",
          "data": {
            "text/plain": [
              "<matplotlib.image.AxesImage at 0x7ed8f39fd7b0>"
            ]
          },
          "metadata": {},
          "execution_count": 169
        },
        {
          "output_type": "display_data",
          "data": {
            "text/plain": [
              "<Figure size 640x480 with 1 Axes>"
            ],
            "image/png": "[encoded data removed]"
          },
          "metadata": {}
        }
      ]
    },
    {
      "cell_type": "code",
      "source": [
        "image= image.reshape(1,-1)\n",
        "#image.shape\n",
        "\n",
        "knn.predict_proba(image)[0]"
      ],
      "metadata": {
        "id": "-uG9-fJ9dhoa",
        "outputId": "b460797a-3456-4baa-a9d5-6aeb08e808e1",
        "colab": {
          "base_uri": "https://localhost:8080/"
        }
      },
      "execution_count": 170,
      "outputs": [
        {
          "output_type": "execute_result",
          "data": {
            "text/plain": [
              "array([0.        , 0.        , 0.        , 0.        , 0.66666667,\n",
              "       0.33333333, 0.        , 0.        , 0.        , 0.        ])"
            ]
          },
          "metadata": {},
          "execution_count": 170
        }
      ]
    },
    {
      "cell_type": "code",
      "source": [
        "r=knn.predict(image)[0]"
      ],
      "metadata": {
        "id": "for0aWw0kJnn"
      },
      "execution_count": 171,
      "outputs": []
    },
    {
      "cell_type": "code",
      "source": [
        "#visualization\n",
        "plt.imshow(img2, cmap='gray')\n",
        "plt.title(r);"
      ],
      "metadata": {
        "id": "bJmMp4xIeDjJ",
        "outputId": "d05c3e8d-f743-46ed-96fc-47f6e5c48ce3",
        "colab": {
          "base_uri": "https://localhost:8080/",
          "height": 452
        }
      },
      "execution_count": 172,
      "outputs": [
        {
          "output_type": "display_data",
          "data": {
            "text/plain": [
              "<Figure size 640x480 with 1 Axes>"
            ],
            "image/png": "[encoded data removed]"
          },
          "metadata": {}
        }
      ]
    },
    {
      "cell_type": "code",
      "source": [],
      "metadata": {
        "id": "Mq0hP4g8jzmC"
      },
      "execution_count": null,
      "outputs": []
    }
  ]
}