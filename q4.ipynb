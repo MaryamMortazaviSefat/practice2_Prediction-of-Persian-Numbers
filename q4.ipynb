{
  "nbformat": 4,
  "nbformat_minor": 0,
  "metadata": {
    "colab": {
      "provenance": [],
      "authorship_tag": "ABX9TyP90Vx/M4QmmW0uP6R8EzFH",
      "include_colab_link": true
    },
    "kernelspec": {
      "name": "python3",
      "display_name": "Python 3"
    },
    "language_info": {
      "name": "python"
    }
  },
  "cells": [
    {
      "cell_type": "markdown",
      "metadata": {
        "id": "view-in-github",
        "colab_type": "text"
      },
      "source": [
        "<a href=\"https://colab.research.google.com/github/MaryamMortazaviSefat/practice2_Prediction-of-Persian-Numbers/blob/main/q4.ipynb\" target=\"_parent\"><img src=\"https://colab.research.google.com/assets/colab-badge.svg\" alt=\"Open In Colab\"/></a>"
      ]
    },
    {
      "cell_type": "code",
      "execution_count": 1,
      "metadata": {
        "id": "tt5EtYpotE__",
        "outputId": "852b45de-4315-479b-9371-da38a0019234",
        "colab": {
          "base_uri": "https://localhost:8080/"
        }
      },
      "outputs": [
        {
          "output_type": "stream",
          "name": "stdout",
          "text": [
            "--2024-09-21 17:53:58--  https://raw.githubusercontent.com/MaryamMortazaviSefat/practice2_Prediction-of-Persian-Numbers/refs/heads/main/data_hoda.py\n",
            "Resolving raw.githubusercontent.com (raw.githubusercontent.com)... 185.199.108.133, 185.199.110.133, 185.199.109.133, ...\n",
            "Connecting to raw.githubusercontent.com (raw.githubusercontent.com)|185.199.108.133|:443... connected.\n",
            "HTTP request sent, awaiting response... 200 OK\n",
            "Length: 1084 (1.1K) [text/plain]\n",
            "Saving to: ‘data_hoda.py’\n",
            "\n",
            "data_hoda.py        100%[===================>]   1.06K  --.-KB/s    in 0s      \n",
            "\n",
            "2024-09-21 17:53:58 (41.1 MB/s) - ‘data_hoda.py’ saved [1084/1084]\n",
            "\n"
          ]
        }
      ],
      "source": [
        "#loaad .py module\n",
        "!wget https://raw.githubusercontent.com/MaryamMortazaviSefat/practice2_Prediction-of-Persian-Numbers/refs/heads/main/data_hoda.py"
      ]
    },
    {
      "cell_type": "code",
      "source": [
        "!wget https://raw.githubusercontent.com/Alireza-Akhavan/SRU-deep-1402/refs/heads/master/images/persian-digits.jpg"
      ],
      "metadata": {
        "id": "cLszzDIIuC6n",
        "outputId": "74dd59d1-e423-4891-bb6e-7ef5d3e9d013",
        "colab": {
          "base_uri": "https://localhost:8080/"
        }
      },
      "execution_count": 2,
      "outputs": [
        {
          "output_type": "stream",
          "name": "stdout",
          "text": [
            "--2024-09-21 17:54:55--  https://raw.githubusercontent.com/Alireza-Akhavan/SRU-deep-1402/refs/heads/master/images/persian-digits.jpg\n",
            "Resolving raw.githubusercontent.com (raw.githubusercontent.com)... 185.199.111.133, 185.199.109.133, 185.199.108.133, ...\n",
            "Connecting to raw.githubusercontent.com (raw.githubusercontent.com)|185.199.111.133|:443... connected.\n",
            "HTTP request sent, awaiting response... 200 OK\n",
            "Length: 41970 (41K) [image/jpeg]\n",
            "Saving to: ‘persian-digits.jpg’\n",
            "\n",
            "persian-digits.jpg  100%[===================>]  40.99K  --.-KB/s    in 0.01s   \n",
            "\n",
            "2024-09-21 17:54:55 (3.47 MB/s) - ‘persian-digits.jpg’ saved [41970/41970]\n",
            "\n"
          ]
        }
      ]
    },
    {
      "cell_type": "code",
      "source": [
        "import numpy as np\n",
        "import matplotlib.pyplot as plt\n",
        "from sklearn.neighbors import KNeighborsClassifier\n",
        "import cv2\n",
        "\n",
        "from data_hoda import knn_classifier,load_hoda"
      ],
      "metadata": {
        "id": "mkd2gN4iuT4U"
      },
      "execution_count": 3,
      "outputs": []
    },
    {
      "cell_type": "code",
      "source": [
        "x_train,y_train,x_test,y_test=load_hoda(size=19)"
      ],
      "metadata": {
        "id": "M3WU0OsKubfY"
      },
      "execution_count": 17,
      "outputs": []
    },
    {
      "cell_type": "code",
      "source": [
        "#change white & black\n",
        "size=19**2\n",
        "\n",
        "for i in range(1000):\n",
        "  for j in range(size):\n",
        "    x_train[i][j]=255-x_train[i][j]\n",
        "\n",
        "for i in range(200):\n",
        "  for j in range(size):\n",
        "    x_test[i][j]=255-x_test[i][j]"
      ],
      "metadata": {
        "id": "p0Zt3nJUuy8n"
      },
      "execution_count": 18,
      "outputs": []
    },
    {
      "cell_type": "code",
      "source": [
        "#test this change:) and fit model\n",
        "\n",
        "neigh=KNeighborsClassifier(n_neighbors=3)\n",
        "print(knn_classifier(3,x_train,y_train,x_test,y_test))"
      ],
      "metadata": {
        "id": "kWkdQKQ1vlBP",
        "outputId": "0627c4f2-6e96-4895-a264-9422458bc569",
        "colab": {
          "base_uri": "https://localhost:8080/"
        }
      },
      "execution_count": 19,
      "outputs": [
        {
          "output_type": "stream",
          "name": "stdout",
          "text": [
            "0.965\n"
          ]
        }
      ]
    },
    {
      "cell_type": "code",
      "source": [],
      "metadata": {
        "id": "YpBiIT4UwDo1"
      },
      "execution_count": null,
      "outputs": []
    }
  ]
}